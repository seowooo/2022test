{
  "nbformat": 4,
  "nbformat_minor": 0,
  "metadata": {
    "colab": {
      "name": "파이썬 병아리반 개인 프로젝트 (새우).ipynb",
      "provenance": [],
      "authorship_tag": "ABX9TyOxdFtZGKryqu0N39WTQv99",
      "include_colab_link": true
    },
    "kernelspec": {
      "name": "python3",
      "display_name": "Python 3"
    },
    "language_info": {
      "name": "python"
    }
  },
  "cells": [
    {
      "cell_type": "markdown",
      "metadata": {
        "id": "view-in-github",
        "colab_type": "text"
      },
      "source": [
        "<a href=\"https://colab.research.google.com/github/seowooo/2022/blob/main/%ED%8C%8C%EC%9D%B4%EC%8D%AC_%EB%B3%91%EC%95%84%EB%A6%AC%EB%B0%98_%EA%B0%9C%EC%9D%B8_%ED%94%84%EB%A1%9C%EC%A0%9D%ED%8A%B8_(%EC%83%88%EC%9A%B0).ipynb\" target=\"_parent\"><img src=\"https://colab.research.google.com/assets/colab-badge.svg\" alt=\"Open In Colab\"/></a>"
      ]
    },
    {
      "cell_type": "markdown",
      "source": [
        "# 파이썬 병아리반 개인 프로젝트\n",
        "## 학생 별 현재 학습 수준을 나타내주는 프로그램 (개별화교육계획 작성 시 참고 / 수학 교과)"
      ],
      "metadata": {
        "id": "D5RQm3Ze7gtn"
      }
    },
    {
      "cell_type": "markdown",
      "source": [
        "[ 5주차 미션 제출 양식 ]\n",
        "\n",
        "1) 제 프로젝트의 주제 : 학생 별 현재 학습 수준을 나타내주는 프로그램\n",
        "\n",
        "2) 프로젝트 코랩 링크 : https://colab.research.google.com/drive/1n5K56tis10PyzhMBr6Pmv6aWrPXiOBwx?usp=sharing\n",
        "\n",
        "3) 깃헙 링크 : https://github.com/seowooo"
      ],
      "metadata": {
        "id": "1ZMD6HWb7YhF"
      }
    },
    {
      "cell_type": "code",
      "source": [
        "# 데이터 파일 저장\n",
        "from google.colab import files\n",
        "files.upload()"
      ],
      "metadata": {
        "id": "AdzKzlZpXJ_R"
      },
      "execution_count": null,
      "outputs": []
    },
    {
      "cell_type": "code",
      "source": [
        "ls"
      ],
      "metadata": {
        "colab": {
          "base_uri": "https://localhost:8080/"
        },
        "id": "nArkYh16Sur3",
        "outputId": "d8ee0157-3fa6-463d-8363-c95afa48af7f"
      },
      "execution_count": null,
      "outputs": [
        {
          "output_type": "stream",
          "name": "stdout",
          "text": [
            "'학생별 수학 현행수준.csv'   \u001b[0m\u001b[01;34msample_data\u001b[0m/\n"
          ]
        }
      ]
    },
    {
      "cell_type": "code",
      "source": [
        "# 한글 폰트 세팅하기\n",
        "!apt-get install fonts-nanum -qq > /dev/null\n",
        "!fc-cache -fv\n",
        "import matplotlib as mpl\n",
        "mpl.font_manager._rebuild()\n",
        "findfont = mpl.font_manager.fontManager.findfont\n",
        "mpl.font_manager.findfont = findfont\n",
        "mpl.backends.backend_agg.findfont = findfont\n",
        "\n",
        "import matplotlib.pyplot as plt\n",
        "plt.rc('font', family = 'NanumGothic')\n",
        "plt.rcParams['axes.unicode_minus'] = False"
      ],
      "metadata": {
        "id": "1UdIuHYDX1rA"
      },
      "execution_count": null,
      "outputs": []
    },
    {
      "cell_type": "markdown",
      "source": [
        ""
      ],
      "metadata": {
        "id": "yV8P_BvZcPKn"
      }
    },
    {
      "cell_type": "code",
      "source": [
        "# 데이터 불러오기 (번호, 영역, 내용 요소, 학년-학기 (단원), 단원명, 학생1~학생6[5~10], 학습 내용, 관련 성취기준)\n",
        "import csv\n",
        "data = csv.reader(open('학생별 수학 현행수준.csv'))\n",
        "next(data)\n",
        "import time\n",
        "\n",
        "while True :\n",
        "  time.sleep(1)\n",
        "  print('')\n",
        "  print('')\n",
        "  print('[학습해야 할 수학의 단원을 찾습니다.]')\n",
        "  print('------------------------------------------------------------------------------------------------')\n",
        "  print('4-1 김ㅇㅇ   5-5 심ㅇㅇ   5-6 박ㅇㅇ   5-8 강ㅇㅇ   6-2 이ㅇㅇ   6-3 박ㅁㅁ   /   stop')\n",
        "  print('------------------------------------------------------------------------------------------------')\n",
        "  name = input('학생의 이름을 입력하세요. : ')\n",
        "\n",
        "  if name == 'stop' :\n",
        "    break\n",
        "  else : \n",
        "    print('------------------------------------------------------------------------------------------------')\n",
        "    print('[ 수와 연산 ]   01. 수 개념   02. 덧셈/뺄셈   03. 곱셈/나눗셈   04. 혼합계산   05. 분수와 소수')\n",
        "    print('[ 도형 ]   06. 평면도형   07. 입체도형   08. 공간과 입체')\n",
        "    print('[ 측정 ]   09. 양의 측정   10. 시각과 시간   11. 도형 계산   12. 어림하기')\n",
        "    print('[ 규칙성 ]   13. 규칙성   14. 비율')\n",
        "    print('[ 자료와 가능성 ]   15. 표와 그래프   16. 평균과 가능성')\n",
        "    print('------------------------------------------------------------------------------------------------')\n",
        "\n",
        "    time.sleep(1)\n",
        "    number = input('내용 요소의 번호를 입력하세요. : ')\n",
        "    print('------------------------------------------------------------------------------------------------')\n",
        "\n",
        "    for row in data :\n",
        "      if name == '김ㅇㅇ' :\n",
        "        if 'O' != row[5] :\n",
        "          if number in row[2] :\n",
        "            print(row[2])\n",
        "            print(row[3] + '. ' + row[4])\n",
        "            for n in range(len(row[11].split('\\n'))) :\n",
        "              print(row[11].split('\\n')[n])\n",
        "            break\n",
        "      elif name == '심ㅇㅇ' :\n",
        "        if 'O' != row[6] :\n",
        "          if number in row[2] :\n",
        "            print(row[2])\n",
        "            print(row[3] + '. ' + row[4])\n",
        "            for n in range(len(row[11].split('\\n'))) :\n",
        "              print(row[11].split('\\n')[n])\n",
        "            break\n",
        "      elif name == '박ㅇㅇ' :\n",
        "        if 'O' != row[7] :\n",
        "          if number in row[2] :\n",
        "            print(row[2])\n",
        "            print(row[3] + '. ' + row[4])\n",
        "            for n in range(len(row[11].split('\\n'))) :\n",
        "              print(row[11].split('\\n')[n])\n",
        "            break\n",
        "      elif name == '강ㅇㅇ' :\n",
        "        if 'O' != row[8] :\n",
        "          if number in row[2] :\n",
        "            print(row[2])\n",
        "            print(row[3] + '. ' + row[4])\n",
        "            for n in range(len(row[11].split('\\n'))) :\n",
        "              print(row[11].split('\\n')[n])\n",
        "            break\n",
        "      elif name == '이ㅇㅇ' :\n",
        "        if 'O' != row[9] :\n",
        "          if number in row[2] :\n",
        "            print(row[2])\n",
        "            print(row[3] + '. ' + row[4])\n",
        "            for n in range(len(row[11].split('\\n'))) :\n",
        "              print(row[11].split('\\n')[n])\n",
        "            break\n",
        "      elif name == '박ㅁㅁ' :\n",
        "        if 'O' != row[10] :\n",
        "          if number in row[2] :\n",
        "            print(row[2])\n",
        "            print(row[3] + '. ' + row[4])\n",
        "            for n in range(len(row[11].split('\\n'))) :\n",
        "              print(row[11].split('\\n')[n])\n",
        "            break"
      ],
      "metadata": {
        "colab": {
          "base_uri": "https://localhost:8080/"
        },
        "id": "TedCrWXkXohQ",
        "outputId": "e464fb38-230e-43a9-f23f-5291aaae0c63"
      },
      "execution_count": null,
      "outputs": [
        {
          "name": "stdout",
          "output_type": "stream",
          "text": [
            "\n",
            "\n",
            "[학습해야 할 수학의 단원을 찾습니다.]\n",
            "------------------------------------------------------------------------------------------------\n",
            "4-1 김ㅇㅇ   5-5 심ㅇㅇ   5-6 박ㅇㅇ   5-8 강ㅇㅇ   6-2 이ㅇㅇ   6-3 박ㅁㅁ   /   stop\n",
            "------------------------------------------------------------------------------------------------\n",
            "학생의 이름을 입력하세요. : 김ㅇㅇ\n",
            "------------------------------------------------------------------------------------------------\n",
            "[ 수와 연산 ]   01. 수 개념   02. 덧셈/뺄셈   03. 곱셈/나눗셈   04. 혼합계산   05. 분수와 소수\n",
            "[ 도형 ]   06. 평면도형   07. 입체도형   08. 공간과 입체\n",
            "[ 측정 ]   09. 양의 측정   10. 시각과 시간   11. 도형 계산   12. 어림하기\n",
            "[ 규칙성 ]   13. 규칙성   14. 비율\n",
            "[ 자료와 가능성 ]   15. 표와 그래프   16. 평균과 가능성\n",
            "------------------------------------------------------------------------------------------------\n",
            "내용 요소의 번호를 입력하세요. : 01\n",
            "------------------------------------------------------------------------------------------------\n",
            "01. 수 개념\n",
            "2-2 (1). 네 자리 수\n",
            "1. 천, 몇천, 네 자리 수를 이해하고 바르게 쓰고 읽을 수 있다.\n",
            "2. 네 자리 수의 자리와 자릿값을 이해할 수 있다.\n",
            "3. 네 자리 수의 계열을 알고 뛰어서 셀 수 있다.\n",
            "4. 네 자리 수의 크기를 비교할 수 있다.\n",
            "\n",
            "\n",
            "[학습해야 할 수학의 단원을 찾습니다.]\n",
            "------------------------------------------------------------------------------------------------\n",
            "4-1 김ㅇㅇ   5-5 심ㅇㅇ   5-6 박ㅇㅇ   5-8 강ㅇㅇ   6-2 이ㅇㅇ   6-3 박ㅁㅁ   /   stop\n",
            "------------------------------------------------------------------------------------------------\n",
            "학생의 이름을 입력하세요. : 박ㅇㅇ\n",
            "------------------------------------------------------------------------------------------------\n",
            "[ 수와 연산 ]   01. 수 개념   02. 덧셈/뺄셈   03. 곱셈/나눗셈   04. 혼합계산   05. 분수와 소수\n",
            "[ 도형 ]   06. 평면도형   07. 입체도형   08. 공간과 입체\n",
            "[ 측정 ]   09. 양의 측정   10. 시각과 시간   11. 도형 계산   12. 어림하기\n",
            "[ 규칙성 ]   13. 규칙성   14. 비율\n",
            "[ 자료와 가능성 ]   15. 표와 그래프   16. 평균과 가능성\n",
            "------------------------------------------------------------------------------------------------\n",
            "내용 요소의 번호를 입력하세요. : 01\n",
            "------------------------------------------------------------------------------------------------\n",
            "\n",
            "\n",
            "[학습해야 할 수학의 단원을 찾습니다.]\n",
            "------------------------------------------------------------------------------------------------\n",
            "4-1 김ㅇㅇ   5-5 심ㅇㅇ   5-6 박ㅇㅇ   5-8 강ㅇㅇ   6-2 이ㅇㅇ   6-3 박ㅁㅁ   /   stop\n",
            "------------------------------------------------------------------------------------------------\n",
            "학생의 이름을 입력하세요. : 박ㅁㅁ\n",
            "------------------------------------------------------------------------------------------------\n",
            "[ 수와 연산 ]   01. 수 개념   02. 덧셈/뺄셈   03. 곱셈/나눗셈   04. 혼합계산   05. 분수와 소수\n",
            "[ 도형 ]   06. 평면도형   07. 입체도형   08. 공간과 입체\n",
            "[ 측정 ]   09. 양의 측정   10. 시각과 시간   11. 도형 계산   12. 어림하기\n",
            "[ 규칙성 ]   13. 규칙성   14. 비율\n",
            "[ 자료와 가능성 ]   15. 표와 그래프   16. 평균과 가능성\n",
            "------------------------------------------------------------------------------------------------\n",
            "내용 요소의 번호를 입력하세요. : 01\n",
            "------------------------------------------------------------------------------------------------\n",
            "\n",
            "\n",
            "[학습해야 할 수학의 단원을 찾습니다.]\n",
            "------------------------------------------------------------------------------------------------\n",
            "4-1 김ㅇㅇ   5-5 심ㅇㅇ   5-6 박ㅇㅇ   5-8 강ㅇㅇ   6-2 이ㅇㅇ   6-3 박ㅁㅁ   /   stop\n",
            "------------------------------------------------------------------------------------------------\n",
            "학생의 이름을 입력하세요. : stop\n"
          ]
        }
      ]
    },
    {
      "cell_type": "code",
      "source": [
        ""
      ],
      "metadata": {
        "id": "wLGoXhYjfyKa"
      },
      "execution_count": null,
      "outputs": []
    }
  ]
}